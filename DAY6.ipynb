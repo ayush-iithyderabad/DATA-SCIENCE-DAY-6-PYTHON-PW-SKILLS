{
 "cells": [
  {
   "cell_type": "code",
   "execution_count": 1,
   "id": "f4828432-0993-4aca-859f-6b227f2cbcae",
   "metadata": {},
   "outputs": [],
   "source": [
    "list=[10,'ankit',True,10.6,'ankush',10]"
   ]
  },
  {
   "cell_type": "code",
   "execution_count": 2,
   "id": "6c5511e4-fdcf-44f7-9c48-6147a062434f",
   "metadata": {},
   "outputs": [
    {
     "data": {
      "text/plain": [
       "[10, 'ankit', True, 10.6, 'ankush', 10]"
      ]
     },
     "execution_count": 2,
     "metadata": {},
     "output_type": "execute_result"
    }
   ],
   "source": [
    "list"
   ]
  },
  {
   "cell_type": "code",
   "execution_count": 3,
   "id": "c7f09957-ba70-4729-b552-2c6bc892733a",
   "metadata": {},
   "outputs": [
    {
     "data": {
      "text/plain": [
       "[10, 'ankit', True, 10.6, 'ankush', 10]"
      ]
     },
     "execution_count": 3,
     "metadata": {},
     "output_type": "execute_result"
    }
   ],
   "source": [
    "list[0:100]"
   ]
  },
  {
   "cell_type": "code",
   "execution_count": 4,
   "id": "503d8c1f-e50e-4a1e-850e-c299b1ec84ec",
   "metadata": {},
   "outputs": [
    {
     "data": {
      "text/plain": [
       "[10, True, 'ankush']"
      ]
     },
     "execution_count": 4,
     "metadata": {},
     "output_type": "execute_result"
    }
   ],
   "source": [
    "list[0:100:2]"
   ]
  },
  {
   "cell_type": "code",
   "execution_count": 5,
   "id": "2fed637c-ec39-4ef8-a5c5-99c5c2a01cc7",
   "metadata": {},
   "outputs": [
    {
     "data": {
      "text/plain": [
       "[10, 10.6, 'ankit']"
      ]
     },
     "execution_count": 5,
     "metadata": {},
     "output_type": "execute_result"
    }
   ],
   "source": [
    "list[-1:-100:-2]"
   ]
  },
  {
   "cell_type": "code",
   "execution_count": 7,
   "id": "1d2f7755-9f11-46bb-9086-4bfc2c123a6e",
   "metadata": {},
   "outputs": [
    {
     "data": {
      "text/plain": [
       "True"
      ]
     },
     "execution_count": 7,
     "metadata": {},
     "output_type": "execute_result"
    }
   ],
   "source": [
    "list[-4]"
   ]
  },
  {
   "cell_type": "code",
   "execution_count": 8,
   "id": "b891c67e-f577-44af-8d96-4e931473cf5d",
   "metadata": {},
   "outputs": [
    {
     "data": {
      "text/plain": [
       "1"
      ]
     },
     "execution_count": 8,
     "metadata": {},
     "output_type": "execute_result"
    }
   ],
   "source": [
    "list.count('ankit')"
   ]
  },
  {
   "cell_type": "code",
   "execution_count": 9,
   "id": "c2d652fe-1277-4c13-9273-8bb948000873",
   "metadata": {},
   "outputs": [
    {
     "data": {
      "text/plain": [
       "2"
      ]
     },
     "execution_count": 9,
     "metadata": {},
     "output_type": "execute_result"
    }
   ],
   "source": [
    "list.count(10)"
   ]
  },
  {
   "cell_type": "code",
   "execution_count": 10,
   "id": "d3bd0a05-74ad-4531-b544-aa02a8b5180b",
   "metadata": {},
   "outputs": [
    {
     "data": {
      "text/plain": [
       "3"
      ]
     },
     "execution_count": 10,
     "metadata": {},
     "output_type": "execute_result"
    }
   ],
   "source": [
    "list.index(10.6)"
   ]
  },
  {
   "cell_type": "code",
   "execution_count": 12,
   "id": "e6c84b0d-8218-44ac-9e20-d7cb854fb4bf",
   "metadata": {},
   "outputs": [
    {
     "data": {
      "text/plain": [
       "6"
      ]
     },
     "execution_count": 12,
     "metadata": {},
     "output_type": "execute_result"
    }
   ],
   "source": [
    "len(list)"
   ]
  },
  {
   "cell_type": "code",
   "execution_count": 13,
   "id": "9475ee32-ff8b-4fce-b71c-08d26b92f258",
   "metadata": {},
   "outputs": [],
   "source": [
    "list.insert(0,'ayush pratap singh is the student of iit hyderabad')"
   ]
  },
  {
   "cell_type": "code",
   "execution_count": 14,
   "id": "f460a267-e5ff-48de-aa96-1b55d36b8eb6",
   "metadata": {},
   "outputs": [
    {
     "data": {
      "text/plain": [
       "['ayush pratap singh is the student of iit hyderabad',\n",
       " 10,\n",
       " 'ankit',\n",
       " True,\n",
       " 10.6,\n",
       " 'ankush',\n",
       " 10]"
      ]
     },
     "execution_count": 14,
     "metadata": {},
     "output_type": "execute_result"
    }
   ],
   "source": [
    "list"
   ]
  },
  {
   "cell_type": "code",
   "execution_count": 15,
   "id": "8881533e-8f76-463e-8751-e85bac988894",
   "metadata": {},
   "outputs": [
    {
     "data": {
      "text/plain": [
       "10"
      ]
     },
     "execution_count": 15,
     "metadata": {},
     "output_type": "execute_result"
    }
   ],
   "source": [
    "list.pop(-1)"
   ]
  },
  {
   "cell_type": "code",
   "execution_count": 16,
   "id": "dbf9d38a-f78c-4c88-8390-9e2df4dda521",
   "metadata": {},
   "outputs": [
    {
     "data": {
      "text/plain": [
       "['ayush pratap singh is the student of iit hyderabad',\n",
       " 10,\n",
       " 'ankit',\n",
       " True,\n",
       " 10.6,\n",
       " 'ankush']"
      ]
     },
     "execution_count": 16,
     "metadata": {},
     "output_type": "execute_result"
    }
   ],
   "source": [
    "list"
   ]
  },
  {
   "cell_type": "code",
   "execution_count": 17,
   "id": "85390655-e9ef-490d-b076-2cbcee1feea2",
   "metadata": {},
   "outputs": [
    {
     "data": {
      "text/plain": [
       "'ankush'"
      ]
     },
     "execution_count": 17,
     "metadata": {},
     "output_type": "execute_result"
    }
   ],
   "source": [
    "list.pop()"
   ]
  },
  {
   "cell_type": "code",
   "execution_count": 20,
   "id": "45de3f2a-edda-4e9a-9e55-343b28dcc54f",
   "metadata": {},
   "outputs": [
    {
     "data": {
      "text/plain": [
       "['ayush pratap singh is the student of iit hyderabad', 10, 'ankit', True, 10.6]"
      ]
     },
     "execution_count": 20,
     "metadata": {},
     "output_type": "execute_result"
    }
   ],
   "source": [
    "list"
   ]
  },
  {
   "cell_type": "code",
   "execution_count": 21,
   "id": "df570c57-b80e-4078-b68e-950b899efb1d",
   "metadata": {},
   "outputs": [],
   "source": [
    "list1=[\"mechanical enginering\",\"enegy science\"]"
   ]
  },
  {
   "cell_type": "code",
   "execution_count": 23,
   "id": "9772c692-a3bd-4643-a616-278dcf89af41",
   "metadata": {},
   "outputs": [],
   "source": [
    "list.extend(list1)"
   ]
  },
  {
   "cell_type": "code",
   "execution_count": 24,
   "id": "8956deb3-0207-43a9-8e76-66a0aca0c9a5",
   "metadata": {},
   "outputs": [
    {
     "data": {
      "text/plain": [
       "['ayush pratap singh is the student of iit hyderabad',\n",
       " 10,\n",
       " 'ankit',\n",
       " True,\n",
       " 10.6,\n",
       " 'mechanical enginering',\n",
       " 'enegy science']"
      ]
     },
     "execution_count": 24,
     "metadata": {},
     "output_type": "execute_result"
    }
   ],
   "source": [
    "list"
   ]
  },
  {
   "cell_type": "code",
   "execution_count": 25,
   "id": "0772e776-47c1-4be9-8650-ebdfc31913c4",
   "metadata": {},
   "outputs": [],
   "source": [
    "list.append(\"mobile\")"
   ]
  },
  {
   "cell_type": "code",
   "execution_count": 26,
   "id": "8f2e2170-d0da-44a6-aa9c-cb8d26a8940f",
   "metadata": {},
   "outputs": [
    {
     "data": {
      "text/plain": [
       "['ayush pratap singh is the student of iit hyderabad',\n",
       " 10,\n",
       " 'ankit',\n",
       " True,\n",
       " 10.6,\n",
       " 'mechanical enginering',\n",
       " 'enegy science',\n",
       " 'mobile']"
      ]
     },
     "execution_count": 26,
     "metadata": {},
     "output_type": "execute_result"
    }
   ],
   "source": [
    "list"
   ]
  },
  {
   "cell_type": "code",
   "execution_count": 27,
   "id": "98fc5c23-1e35-4510-8ad9-7746647ed44e",
   "metadata": {},
   "outputs": [
    {
     "data": {
      "text/plain": [
       "1"
      ]
     },
     "execution_count": 27,
     "metadata": {},
     "output_type": "execute_result"
    }
   ],
   "source": [
    "list.count(10)"
   ]
  },
  {
   "cell_type": "code",
   "execution_count": 28,
   "id": "1d23b988-760a-4c62-89cf-4bae27c62ed6",
   "metadata": {},
   "outputs": [
    {
     "data": {
      "text/plain": [
       "4"
      ]
     },
     "execution_count": 28,
     "metadata": {},
     "output_type": "execute_result"
    }
   ],
   "source": [
    "list.index(10.6)"
   ]
  },
  {
   "cell_type": "code",
   "execution_count": 29,
   "id": "f914ba35-e821-499c-b8aa-9141f9ec7c75",
   "metadata": {},
   "outputs": [],
   "source": [
    "list2=[6387300270,7080165461]"
   ]
  },
  {
   "cell_type": "code",
   "execution_count": 30,
   "id": "85bcf8c1-1cf1-4956-8297-77b5dae4731a",
   "metadata": {},
   "outputs": [],
   "source": [
    "list.insert(2,1816440037)"
   ]
  },
  {
   "cell_type": "code",
   "execution_count": 31,
   "id": "0e17aa44-f9c6-4711-b7e8-38230b966f2b",
   "metadata": {},
   "outputs": [
    {
     "data": {
      "text/plain": [
       "['ayush pratap singh is the student of iit hyderabad',\n",
       " 10,\n",
       " 1816440037,\n",
       " 'ankit',\n",
       " True,\n",
       " 10.6,\n",
       " 'mechanical enginering',\n",
       " 'enegy science',\n",
       " 'mobile']"
      ]
     },
     "execution_count": 31,
     "metadata": {},
     "output_type": "execute_result"
    }
   ],
   "source": [
    "list"
   ]
  },
  {
   "cell_type": "code",
   "execution_count": 32,
   "id": "091941db-82b8-4d71-973a-522cea106a12",
   "metadata": {},
   "outputs": [
    {
     "data": {
      "text/plain": [
       "'mobile'"
      ]
     },
     "execution_count": 32,
     "metadata": {},
     "output_type": "execute_result"
    }
   ],
   "source": [
    "list.pop(-1)"
   ]
  },
  {
   "cell_type": "code",
   "execution_count": 33,
   "id": "f3cf05de-6c91-4772-b5a5-9d83d88a9c27",
   "metadata": {},
   "outputs": [
    {
     "data": {
      "text/plain": [
       "['ayush pratap singh is the student of iit hyderabad',\n",
       " 10,\n",
       " 1816440037,\n",
       " 'ankit',\n",
       " True,\n",
       " 10.6,\n",
       " 'mechanical enginering',\n",
       " 'enegy science']"
      ]
     },
     "execution_count": 33,
     "metadata": {},
     "output_type": "execute_result"
    }
   ],
   "source": [
    "list"
   ]
  },
  {
   "cell_type": "code",
   "execution_count": 34,
   "id": "78c86adc-7010-4b7f-bfa3-663fbeb13de9",
   "metadata": {},
   "outputs": [
    {
     "data": {
      "text/plain": [
       "'ayush pratap singh is the student of iit hyderabad'"
      ]
     },
     "execution_count": 34,
     "metadata": {},
     "output_type": "execute_result"
    }
   ],
   "source": [
    "list.pop(0)"
   ]
  },
  {
   "cell_type": "code",
   "execution_count": 35,
   "id": "16417bd9-4e40-4056-881d-a66e3654e74c",
   "metadata": {},
   "outputs": [
    {
     "data": {
      "text/plain": [
       "[10, 1816440037, 'ankit', True, 10.6, 'mechanical enginering', 'enegy science']"
      ]
     },
     "execution_count": 35,
     "metadata": {},
     "output_type": "execute_result"
    }
   ],
   "source": [
    "list"
   ]
  },
  {
   "cell_type": "code",
   "execution_count": 36,
   "id": "24bf3995-10dd-4539-8789-93335109e42e",
   "metadata": {},
   "outputs": [],
   "source": [
    "list.insert(-1,\"ankur\")"
   ]
  },
  {
   "cell_type": "code",
   "execution_count": 37,
   "id": "3eef40fa-2a9b-4436-96ce-4c30423de240",
   "metadata": {},
   "outputs": [
    {
     "data": {
      "text/plain": [
       "[10,\n",
       " 1816440037,\n",
       " 'ankit',\n",
       " True,\n",
       " 10.6,\n",
       " 'mechanical enginering',\n",
       " 'ankur',\n",
       " 'enegy science']"
      ]
     },
     "execution_count": 37,
     "metadata": {},
     "output_type": "execute_result"
    }
   ],
   "source": [
    "list"
   ]
  },
  {
   "cell_type": "code",
   "execution_count": 38,
   "id": "8c8436ff-3434-43ee-a853-b3dbe5207f16",
   "metadata": {},
   "outputs": [],
   "source": [
    "list.remove(10)"
   ]
  },
  {
   "cell_type": "code",
   "execution_count": 39,
   "id": "e10c9179-8aa0-4994-93cb-7752a7877c71",
   "metadata": {},
   "outputs": [
    {
     "data": {
      "text/plain": [
       "[1816440037,\n",
       " 'ankit',\n",
       " True,\n",
       " 10.6,\n",
       " 'mechanical enginering',\n",
       " 'ankur',\n",
       " 'enegy science']"
      ]
     },
     "execution_count": 39,
     "metadata": {},
     "output_type": "execute_result"
    }
   ],
   "source": [
    "list"
   ]
  },
  {
   "cell_type": "code",
   "execution_count": 40,
   "id": "ff8eedf7-76ac-49c5-8eee-72888cff09cc",
   "metadata": {},
   "outputs": [],
   "source": [
    "list.reverse()"
   ]
  },
  {
   "cell_type": "code",
   "execution_count": 41,
   "id": "89306708-6c1e-4783-be03-c5ca2ac7100b",
   "metadata": {},
   "outputs": [
    {
     "data": {
      "text/plain": [
       "['enegy science',\n",
       " 'ankur',\n",
       " 'mechanical enginering',\n",
       " 10.6,\n",
       " True,\n",
       " 'ankit',\n",
       " 1816440037]"
      ]
     },
     "execution_count": 41,
     "metadata": {},
     "output_type": "execute_result"
    }
   ],
   "source": [
    "list"
   ]
  },
  {
   "cell_type": "code",
   "execution_count": 42,
   "id": "487ca417-5dbe-45b3-95f5-5b3e9309b2a6",
   "metadata": {},
   "outputs": [],
   "source": [
    "list3=list.copy()"
   ]
  },
  {
   "cell_type": "code",
   "execution_count": 43,
   "id": "b55822db-ab68-4f95-a2d5-44b48638db57",
   "metadata": {},
   "outputs": [
    {
     "data": {
      "text/plain": [
       "['enegy science',\n",
       " 'ankur',\n",
       " 'mechanical enginering',\n",
       " 10.6,\n",
       " True,\n",
       " 'ankit',\n",
       " 1816440037]"
      ]
     },
     "execution_count": 43,
     "metadata": {},
     "output_type": "execute_result"
    }
   ],
   "source": [
    "list3"
   ]
  },
  {
   "cell_type": "code",
   "execution_count": 44,
   "id": "f32932e4-5cdd-428b-914d-868f42691252",
   "metadata": {},
   "outputs": [],
   "source": [
    "list4=list3[:]"
   ]
  },
  {
   "cell_type": "code",
   "execution_count": 45,
   "id": "e7ed3cb9-8c8f-4819-b46b-65a79d7a9024",
   "metadata": {},
   "outputs": [
    {
     "data": {
      "text/plain": [
       "['enegy science',\n",
       " 'ankur',\n",
       " 'mechanical enginering',\n",
       " 10.6,\n",
       " True,\n",
       " 'ankit',\n",
       " 1816440037]"
      ]
     },
     "execution_count": 45,
     "metadata": {},
     "output_type": "execute_result"
    }
   ],
   "source": [
    "list4"
   ]
  },
  {
   "cell_type": "code",
   "execution_count": null,
   "id": "1a8f04dd-414a-47dd-bdf6-ac718b230bf4",
   "metadata": {},
   "outputs": [],
   "source": [
    "list7=[63,87,300,270,74,60,41,82,933,633,29,03,94,73,55,99,04]"
   ]
  },
  {
   "cell_type": "code",
   "execution_count": null,
   "id": "684ae95d-9c47-42fd-987b-b46e02d4efe8",
   "metadata": {},
   "outputs": [],
   "source": []
  },
  {
   "cell_type": "code",
   "execution_count": null,
   "id": "30e1e885-beb7-4021-9b16-b7c4192298d0",
   "metadata": {},
   "outputs": [],
   "source": []
  },
  {
   "cell_type": "code",
   "execution_count": null,
   "id": "52be31ea-ea4b-4b0d-9baa-83b4f20b649e",
   "metadata": {},
   "outputs": [],
   "source": []
  },
  {
   "cell_type": "code",
   "execution_count": null,
   "id": "946abb3b-b3cc-4793-ac19-90591df7b4b4",
   "metadata": {},
   "outputs": [],
   "source": []
  },
  {
   "cell_type": "code",
   "execution_count": null,
   "id": "6be75177-106c-4b65-b0d8-4dd76960b898",
   "metadata": {},
   "outputs": [],
   "source": []
  },
  {
   "cell_type": "code",
   "execution_count": null,
   "id": "221d462a-51fe-4ee0-bf08-7aace80f43ca",
   "metadata": {},
   "outputs": [],
   "source": []
  },
  {
   "cell_type": "code",
   "execution_count": null,
   "id": "4de2184c-676e-460e-aafd-f06b9c2869e9",
   "metadata": {},
   "outputs": [],
   "source": []
  }
 ],
 "metadata": {
  "kernelspec": {
   "display_name": "Python 3 (ipykernel)",
   "language": "python",
   "name": "python3"
  },
  "language_info": {
   "codemirror_mode": {
    "name": "ipython",
    "version": 3
   },
   "file_extension": ".py",
   "mimetype": "text/x-python",
   "name": "python",
   "nbconvert_exporter": "python",
   "pygments_lexer": "ipython3",
   "version": "3.10.8"
  }
 },
 "nbformat": 4,
 "nbformat_minor": 5
}
